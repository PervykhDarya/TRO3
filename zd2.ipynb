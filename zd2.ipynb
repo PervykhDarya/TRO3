{
 "cells": [
  {
   "cell_type": "markdown",
   "id": "a23de1f2",
   "metadata": {},
   "source": [
    "### Матричный метод"
   ]
  },
  {
   "cell_type": "code",
   "execution_count": 8,
   "id": "100f9c88",
   "metadata": {},
   "outputs": [
    {
     "name": "stdout",
     "output_type": "stream",
     "text": [
      "x1 = [[0.28571429]]\n",
      "x2 = [[-1.14285714]]\n",
      "x3 = [[2.07142857]]\n"
     ]
    }
   ],
   "source": [
    "import numpy as np\n",
    "A = np.matrix('7 1 2; 5 4 2; 5 5 4')\n",
    "B = np.matrix('5; 1; 4')\n",
    "if round(np.linalg.det(A), 3) != 0: \n",
    "    A_inv = np.linalg.inv(A)\n",
    "    R = A_inv.dot(B) \n",
    "    i = 1\n",
    "    for elem in R: \n",
    "        print(f\"x{i} = {elem}\") \n",
    "        i += 1\n",
    "else:\n",
    "    print(\"определитель равен 0, систему решить нельзя\")"
   ]
  },
  {
   "cell_type": "markdown",
   "id": "f16f1cc7",
   "metadata": {},
   "source": [
    "### Метод Крамера "
   ]
  },
  {
   "cell_type": "code",
   "execution_count": 9,
   "id": "611f1399",
   "metadata": {},
   "outputs": [],
   "source": [
    "import numpy as np"
   ]
  },
  {
   "cell_type": "code",
   "execution_count": 12,
   "id": "208deb29",
   "metadata": {},
   "outputs": [
    {
     "name": "stdout",
     "output_type": "stream",
     "text": [
      "x1: 1.3846153846153846 x2: -4.6923076923076925 x3: -3.076923076923077\n"
     ]
    }
   ],
   "source": [
    "A = np.matrix('7 1 0; 5 4 2; 7 5 3')\n",
    "B = np.matrix('5; 1; 4')\n",
    "if round(np.linalg.det(A), 3) != 0:\n",
    "    K = A.copy() \n",
    "    K[:, 0] = B[:, 0] \n",
    "    x1 = round(np.linalg.det(C), 3) / round(np.linalg.det(A), 3)\n",
    "    F = A.copy()  \n",
    "    F[:, 1] = B[:, 0] \n",
    "    x2 = round(np.linalg.det(D), 3) / round(np.linalg.det(A), 3) \n",
    "    J = A.copy() \n",
    "    J[:, 2] = B[:, 0] \n",
    "    x3 = round(np.linalg.det(F), 3) / round(np.linalg.det(A), 3) \n",
    "   \n",
    "    print(\"x1:\", x1, \"x2:\", x2, \"x3:\", x3)"
   ]
  }
 ],
 "metadata": {
  "kernelspec": {
   "display_name": "Python 3",
   "language": "python",
   "name": "python3"
  },
  "language_info": {
   "codemirror_mode": {
    "name": "ipython",
    "version": 3
   },
   "file_extension": ".py",
   "mimetype": "text/x-python",
   "name": "python",
   "nbconvert_exporter": "python",
   "pygments_lexer": "ipython3",
   "version": "3.8.8"
  }
 },
 "nbformat": 4,
 "nbformat_minor": 5
}
