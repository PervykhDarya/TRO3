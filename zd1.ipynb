{
 "cells": [
  {
   "cell_type": "code",
   "execution_count": 3,
   "id": "00c15591",
   "metadata": {},
   "outputs": [],
   "source": [
    "import numpy as np"
   ]
  },
  {
   "cell_type": "markdown",
   "id": "28eb58a5",
   "metadata": {},
   "source": [
    "### Транспонирование"
   ]
  },
  {
   "cell_type": "markdown",
   "id": "3061ef4e",
   "metadata": {},
   "source": [
    " Транспонированная матрица равна исходной матрице"
   ]
  },
  {
   "cell_type": "code",
   "execution_count": 4,
   "id": "8c21d642",
   "metadata": {},
   "outputs": [
    {
     "name": "stdout",
     "output_type": "stream",
     "text": [
      "[[ 61  21]\n",
      " [ 18 -13]]\n",
      "[[ 61  21]\n",
      " [ 18 -13]]\n"
     ]
    }
   ],
   "source": [
    ">>> A = np.random.randint(-20, 70, (2, 2))\n",
    ">>> print(A)\n",
    ">>> R = (A.T).T\n",
    ">>> print(R)"
   ]
  },
  {
   "cell_type": "markdown",
   "id": "533b10bc",
   "metadata": {},
   "source": [
    "Транспоринование суммы матриц равно сумме транспонированных матриц"
   ]
  },
  {
   "cell_type": "code",
   "execution_count": 5,
   "id": "0a88c6a2",
   "metadata": {},
   "outputs": [
    {
     "name": "stdout",
     "output_type": "stream",
     "text": [
      "Транспонирование суммы:\n",
      " [[ 9 12]\n",
      " [ 9 11]\n",
      " [ 8 10]]\n",
      "Сумма транспонированных матриц:\n",
      " [[ 9 12]\n",
      " [ 9 11]\n",
      " [ 8 10]]\n"
     ]
    }
   ],
   "source": [
    "A = np.matrix('8 7 5; 5 4 3')\n",
    "B = np.matrix('1 2 3; 7 7 7')\n",
    "L = (A + B).T\n",
    "R = A.T + B.T\n",
    "print(\"Транспонирование суммы:\\n\",L)\n",
    "print(\"Сумма транспонированных матриц:\\n\",R)"
   ]
  },
  {
   "cell_type": "markdown",
   "id": "cee8cfca",
   "metadata": {},
   "source": [
    "Транспонирование произведения матриц равно произведению транспонированных матриц расставленных в обратном порядке"
   ]
  },
  {
   "cell_type": "code",
   "execution_count": 6,
   "id": "7b74564a",
   "metadata": {},
   "outputs": [
    {
     "name": "stdout",
     "output_type": "stream",
     "text": [
      "Транспонирование произведения матриц:\n",
      " [[84 77]\n",
      " [77 70]]\n",
      "Произведение транспонированных матриц расставленных в обратном порядке:\n",
      " [[84 77]\n",
      " [77 70]]\n"
     ]
    }
   ],
   "source": [
    "A = np.matrix('7 5; 7 4')\n",
    "B = np.matrix('7 6; 7 7')\n",
    "L = (A.dot(B)).T\n",
    "R = (B.T).dot(A.T)\n",
    "print(\"Транспонирование произведения матриц:\\n\",L)\n",
    "print(\"Произведение транспонированных матриц расставленных в обратном порядке:\\n\",R)"
   ]
  },
  {
   "cell_type": "markdown",
   "id": "20bd73d6",
   "metadata": {},
   "source": [
    "Транспонирование произведения матрицы на число равно произведению этого числа на транспонированную матрицу"
   ]
  },
  {
   "cell_type": "code",
   "execution_count": 7,
   "id": "eec304e1",
   "metadata": {},
   "outputs": [
    {
     "name": "stdout",
     "output_type": "stream",
     "text": [
      "Транспонирование произведения матрицы на число:\n",
      " [[ 70 280]\n",
      " [140 350]\n",
      " [210 420]]\n",
      "Произведение этого числа на транспонированную матрицу:\n",
      " [[ 70 280]\n",
      " [140 350]\n",
      " [210 420]]\n"
     ]
    }
   ],
   "source": [
    "A = np.matrix('1 2 3; 4 5 6')\n",
    "k = 70\n",
    "L = (k * A).T\n",
    "R = k * (A.T)\n",
    "print(\"Транспонирование произведения матрицы на число:\\n\",L)\n",
    "print(\"Произведение этого числа на транспонированную матрицу:\\n\",R)"
   ]
  },
  {
   "cell_type": "markdown",
   "id": "f66d5eaa",
   "metadata": {},
   "source": [
    "Определители исходной и транспонированной матрицы совпадают"
   ]
  },
  {
   "cell_type": "code",
   "execution_count": 8,
   "id": "057146e1",
   "metadata": {},
   "outputs": [
    {
     "name": "stdout",
     "output_type": "stream",
     "text": [
      "Определитель исходной матрицы: 175\n",
      "Определитель транспонированной матрицы: 175\n"
     ]
    }
   ],
   "source": [
    "A = np.matrix('55 100; 1 5')\n",
    "A_det = np.linalg.det(A)\n",
    "A_T_det = np.linalg.det(A.T)\n",
    "print(\"Определитель исходной матрицы:\",format(A_det, '.9g'))\n",
    "-2\n",
    "print(\"Определитель транспонированной матрицы:\",format(A_T_det, '.9g'))"
   ]
  },
  {
   "cell_type": "markdown",
   "id": "fa94904e",
   "metadata": {},
   "source": [
    "### Умножение "
   ]
  },
  {
   "cell_type": "markdown",
   "id": "311f4b52",
   "metadata": {},
   "source": [
    " Произведение единицы и любой заданной матрицы равно заданной матрице"
   ]
  },
  {
   "cell_type": "code",
   "execution_count": 9,
   "id": "fbb5aadc",
   "metadata": {},
   "outputs": [
    {
     "name": "stdout",
     "output_type": "stream",
     "text": [
      "Матрица умноженная на единицу:\n",
      " [[1 2]\n",
      " [3 4]]\n"
     ]
    }
   ],
   "source": [
    "A = np.matrix('1 2; 3 4')\n",
    "L = 1 * A\n",
    "print(\"Матрица умноженная на единицу:\\n\", L)"
   ]
  },
  {
   "cell_type": "markdown",
   "id": "278ccb09",
   "metadata": {},
   "source": [
    "Произведение нуля и любой матрицы равно нулевой матрице, размерность которой равна исходной матрицы"
   ]
  },
  {
   "cell_type": "code",
   "execution_count": 10,
   "id": "6ba5d3f6",
   "metadata": {},
   "outputs": [
    {
     "name": "stdout",
     "output_type": "stream",
     "text": [
      "Произведение матрицы на ноль:\n",
      " [[0 0]\n",
      " [0 0]]\n"
     ]
    }
   ],
   "source": [
    "A = np.matrix('1 2; 3 4')\n",
    "L = 0 * A\n",
    "print(\"Произведение матрицы на ноль:\\n\", L)"
   ]
  },
  {
   "cell_type": "markdown",
   "id": "5e7ec131",
   "metadata": {},
   "source": [
    "Произведение матрицы на сумму чисел равно сумме произведений матрицы на каждое из этих чисел"
   ]
  },
  {
   "cell_type": "code",
   "execution_count": 11,
   "id": "7d93e748",
   "metadata": {},
   "outputs": [
    {
     "name": "stdout",
     "output_type": "stream",
     "text": [
      "Произведение матрицы на сумму чисел:\n",
      " [[ 75 150]\n",
      " [ 75 150]]\n",
      "Сумма произведений матрицы на каждое из этих чисел:\n",
      " [[ 75 150]\n",
      " [ 75 150]]\n"
     ]
    }
   ],
   "source": [
    "A = np.matrix('1 2; 1 2')\n",
    "p = 70\n",
    "q = 5\n",
    "L = (p + q) * A\n",
    "R = p * A + q * A\n",
    "print(\"Произведение матрицы на сумму чисел:\\n\", L)\n",
    "print(\"Сумма произведений матрицы на каждое из этих чисел:\\n\", R)"
   ]
  },
  {
   "cell_type": "markdown",
   "id": "e9c47f88",
   "metadata": {},
   "source": [
    "Произведение матрицы на произведение двух чисел равно произведению второго числа и заданной матрицы, умноженному на первое число"
   ]
  },
  {
   "cell_type": "code",
   "execution_count": 12,
   "id": "0f625c7e",
   "metadata": {},
   "outputs": [
    {
     "name": "stdout",
     "output_type": "stream",
     "text": [
      "Произведение матрицы на произведение двух чисел:\n",
      " [[ 500 1000]\n",
      " [ 500 1000]]\n",
      "Произведение второго числа и заданной матрицы, умноженному на первое число:\n",
      " [[ 500 1000]\n",
      " [ 500 1000]]\n"
     ]
    }
   ],
   "source": [
    "A = np.matrix('1 2; 1 2')\n",
    "p = 5\n",
    "q = 100\n",
    "L = (p * q) * A \n",
    "R = p * (q * A)\n",
    "print(\"Произведение матрицы на произведение двух чисел:\\n\", L)\n",
    "print(\"Произведение второго числа и заданной матрицы, умноженному на первое число:\\n\", R)"
   ]
  },
  {
   "cell_type": "markdown",
   "id": "72f9031b",
   "metadata": {},
   "source": [
    "Произведение суммы матриц на число равно сумме произведений этих матриц на заданное число"
   ]
  },
  {
   "cell_type": "code",
   "execution_count": 13,
   "id": "e91faed2",
   "metadata": {},
   "outputs": [
    {
     "name": "stdout",
     "output_type": "stream",
     "text": [
      "Произведение суммы матриц на число:\n",
      " [[400 600]\n",
      " [600 700]]\n",
      "Сумма произведений этих матриц на заданное число:\n",
      " [[400 600]\n",
      " [600 700]]\n"
     ]
    }
   ],
   "source": [
    "A = np.matrix('1 2; 1 2')\n",
    "B = np.matrix('3 4; 5 5')\n",
    "k = 100\n",
    "L = k * (A + B)\n",
    "R = k * A + k * B\n",
    "print(\"Произведение суммы матриц на число:\\n\", L)\n",
    "print(\"Сумма произведений этих матриц на заданное число:\\n\", R)"
   ]
  },
  {
   "cell_type": "markdown",
   "id": "89ed4637",
   "metadata": {},
   "source": [
    "### Сложение"
   ]
  },
  {
   "cell_type": "markdown",
   "id": "e29af19a",
   "metadata": {},
   "source": [
    "Коммутативность сложения. От перестановки матриц их сумма не изменяется"
   ]
  },
  {
   "cell_type": "code",
   "execution_count": 14,
   "id": "0339779d",
   "metadata": {},
   "outputs": [
    {
     "name": "stdout",
     "output_type": "stream",
     "text": [
      "Сумма А + В:\n",
      " [[1500 2600]\n",
      " [7300 8400]]\n",
      "Сумма В + А:\n",
      " [[1500 2600]\n",
      " [7300 8400]]\n"
     ]
    }
   ],
   "source": [
    "A = np.matrix('1000 2000; 300 400')\n",
    "B = np.matrix('500 600; 7000 8000')\n",
    "L = A + B\n",
    "R = B + A\n",
    "print(\"Сумма А + В:\\n\", L)\n",
    "print(\"Сумма В + А:\\n\", R)"
   ]
  },
  {
   "cell_type": "markdown",
   "id": "8d50d695",
   "metadata": {},
   "source": [
    "Ассоциативность сложения. Результат сложения трех и более матриц не зависит от порядка, в котором эта операция будет выполняться"
   ]
  },
  {
   "cell_type": "code",
   "execution_count": 15,
   "id": "ce5339b3",
   "metadata": {},
   "outputs": [
    {
     "name": "stdout",
     "output_type": "stream",
     "text": [
      "Сумма A + (B + C):\n",
      " [[6 6]\n",
      " [6 6]]\n",
      "Сумма (A + B) + C:\n",
      " [[6 6]\n",
      " [6 6]]\n"
     ]
    }
   ],
   "source": [
    "A = np.matrix('1 1; 1 1')\n",
    "B = np.matrix('2 2; 2 2')\n",
    "C = np.matrix('3 3; 3 3')\n",
    "L = A + (B + C)\n",
    "R = (A + B) + C\n",
    "print(\"Сумма A + (B + C):\\n\", L)\n",
    "print(\"Сумма (A + B) + C:\\n\", R)"
   ]
  },
  {
   "cell_type": "markdown",
   "id": "39153abc",
   "metadata": {},
   "source": [
    "Для любой матрицы существует противоположная ей, такая, что их сумма является нулевой матрицей"
   ]
  },
  {
   "cell_type": "code",
   "execution_count": 16,
   "id": "c3edab98",
   "metadata": {},
   "outputs": [
    {
     "name": "stdout",
     "output_type": "stream",
     "text": [
      "Нулевая матрица:\n",
      " [[0 0]\n",
      " [0 0]]\n"
     ]
    }
   ],
   "source": [
    "A = np.matrix('20000000 30000000; 40000000 50000000')\n",
    "L = A + (-1)*A\n",
    "print(\"Нулевая матрица:\\n\", L)"
   ]
  },
  {
   "cell_type": "markdown",
   "id": "b652380e",
   "metadata": {},
   "source": [
    "### Умножение матриц"
   ]
  },
  {
   "cell_type": "markdown",
   "id": "b04ec65f",
   "metadata": {},
   "source": [
    "Ассоциативность умножения. Результат умножения матриц не зависит от порядка, в котором будет выполняться эта операция"
   ]
  },
  {
   "cell_type": "code",
   "execution_count": 17,
   "id": "68ec0d55",
   "metadata": {},
   "outputs": [
    {
     "name": "stdout",
     "output_type": "stream",
     "text": [
      "Произведение A * (B * C):\n",
      " [[40 40]\n",
      " [40 40]]\n",
      "Произведение (A * B) * C:\n",
      " [[40 40]\n",
      " [40 40]]\n"
     ]
    }
   ],
   "source": [
    "A = np.matrix('1 1; 1 1')\n",
    "B = np.matrix('2 2; 2 2')\n",
    "C = np.matrix('5 5; 5 5')\n",
    "L = A.dot(B.dot(C))\n",
    "R = (A.dot(B)).dot(C)\n",
    "print(\"Произведение A * (B * C):\\n\", L)\n",
    "print(\"Произведение (A * B) * C:\\n\", R)"
   ]
  },
  {
   "cell_type": "markdown",
   "id": "f20787ce",
   "metadata": {},
   "source": [
    "Дистрибутивность умножения. Произведение матрицы на сумму матриц равно сумме произведений матриц"
   ]
  },
  {
   "cell_type": "code",
   "execution_count": 18,
   "id": "0e1f62d4",
   "metadata": {},
   "outputs": [
    {
     "name": "stdout",
     "output_type": "stream",
     "text": [
      "Произведение A * (B + C):\n",
      " [[14 14]\n",
      " [14 14]]\n",
      "Произведение A * B + A * C:\n",
      " [[14 14]\n",
      " [14 14]]\n"
     ]
    }
   ],
   "source": [
    "A = np.matrix('1 1; 1 1')\n",
    "B = np.matrix('2 2; 2 2')\n",
    "C = np.matrix('5 5; 5 5')\n",
    "L = A.dot(B + C)\n",
    "R = A.dot(B) + A.dot(C)\n",
    "print(\"Произведение A * (B + C):\\n\", L)\n",
    "print(\"Произведение A * B + A * C:\\n\", R)"
   ]
  },
  {
   "cell_type": "markdown",
   "id": "15f73ad4",
   "metadata": {},
   "source": [
    "Умножение матриц в общем виде не коммутативно. Это означает, что для матриц не выполняется правило независимости произведения от перестановки множителей"
   ]
  },
  {
   "cell_type": "code",
   "execution_count": 19,
   "id": "d3fc6122",
   "metadata": {},
   "outputs": [
    {
     "name": "stdout",
     "output_type": "stream",
     "text": [
      "Произведение A * B:\n",
      " [[15 62]\n",
      " [52 32]]\n",
      "Произведение B * A:\n",
      " [[ 25  27]\n",
      " [122  22]]\n"
     ]
    }
   ],
   "source": [
    "A = np.matrix('1 5; 10 1')\n",
    "B = np.matrix('5 2; 2 12')\n",
    "L = A.dot(B)\n",
    "R = B.dot(A)\n",
    "print(\"Произведение A * B:\\n\", L)\n",
    "print(\"Произведение B * A:\\n\", R)"
   ]
  },
  {
   "cell_type": "markdown",
   "id": "4209a912",
   "metadata": {},
   "source": [
    "Произведение заданной матрицы на единичную равно исходной матрице"
   ]
  },
  {
   "cell_type": "code",
   "execution_count": 20,
   "id": "f03125e4",
   "metadata": {},
   "outputs": [
    {
     "name": "stdout",
     "output_type": "stream",
     "text": [
      "Произведение заданной матрицы на единичную:\n",
      " [[5 4]\n",
      " [1 8]]\n",
      "Произведение единичной матрицы на заданную:\n",
      " [[5 4]\n",
      " [1 8]]\n",
      "Исходная матрица:\n",
      " [[5 4]\n",
      " [1 8]]\n"
     ]
    }
   ],
   "source": [
    "A = np.matrix('5 4; 1 8')\n",
    "E = np.matrix('1 0; 0 1')\n",
    "L = E.dot(A)\n",
    "R = A.dot(E)\n",
    "print(\"Произведение заданной матрицы на единичную:\\n\", L)\n",
    "print(\"Произведение единичной матрицы на заданную:\\n\", R)\n",
    "print(\"Исходная матрица:\\n\", A)"
   ]
  },
  {
   "cell_type": "markdown",
   "id": "71f046ce",
   "metadata": {},
   "source": [
    "Произведение заданной матрицы на нулевую матрицу равно нулевой матрице"
   ]
  },
  {
   "cell_type": "code",
   "execution_count": 21,
   "id": "731f7309",
   "metadata": {},
   "outputs": [
    {
     "name": "stdout",
     "output_type": "stream",
     "text": [
      "Произведение заданной матрицы на нулевую:\n",
      " [[0 0]\n",
      " [0 0]]\n",
      "Произведение нулевой матрицы на заданную:\n",
      " [[0 0]\n",
      " [0 0]]\n",
      "Исходная матрица:\n",
      " [[0 0]\n",
      " [0 0]]\n"
     ]
    }
   ],
   "source": [
    "A = np.matrix('5 4; 1 8')\n",
    "Z = np.matrix('0 0; 0 0')\n",
    "L = Z.dot(A)\n",
    "R = A.dot(Z)\n",
    "print(\"Произведение заданной матрицы на нулевую:\\n\", L)\n",
    "print(\"Произведение нулевой матрицы на заданную:\\n\", R)\n",
    "print(\"Исходная матрица:\\n\", Z)"
   ]
  },
  {
   "cell_type": "markdown",
   "id": "0badca3c",
   "metadata": {},
   "source": [
    "### Определитель матрицы"
   ]
  },
  {
   "cell_type": "markdown",
   "id": "7bd59576",
   "metadata": {},
   "source": [
    "Определитель матрицы остается неизменным при ее транспонировании"
   ]
  },
  {
   "cell_type": "code",
   "execution_count": 22,
   "id": "2408502d",
   "metadata": {},
   "outputs": [
    {
     "name": "stdout",
     "output_type": "stream",
     "text": [
      "Опеределитель матрицы: -980.0\n",
      "Определитель транспонированной матрицы: -980.0\n"
     ]
    }
   ],
   "source": [
    "A = np.matrix('1 10 2; 10 2 -1; 5 8 11')\n",
    "R = A.T\n",
    "det_A = round(np.linalg.det(A), 3)\n",
    "det_R = round(np.linalg.det(R), 3)\n",
    "print(\"Опеределитель матрицы:\", det_A)\n",
    "print(\"Определитель транспонированной матрицы:\", det_R)"
   ]
  },
  {
   "cell_type": "markdown",
   "id": "7ddb3213",
   "metadata": {},
   "source": [
    "Если у матрицы есть строка или столбец, состоящие из нулей, то определитель такой матрицы равен нулю"
   ]
  },
  {
   "cell_type": "code",
   "execution_count": 23,
   "id": "48383067",
   "metadata": {},
   "outputs": [
    {
     "name": "stdout",
     "output_type": "stream",
     "text": [
      "Опеределитель матрицы: 0.0\n"
     ]
    }
   ],
   "source": [
    "A = np.matrix('1 10 2; 0 0 0; 5 8 11')\n",
    "print(\"Опеределитель матрицы:\", np.linalg.det(A))"
   ]
  },
  {
   "cell_type": "markdown",
   "id": "97455f4f",
   "metadata": {},
   "source": [
    "При перестановке строк матрицы знак ее определителя меняется на противоположный"
   ]
  },
  {
   "cell_type": "code",
   "execution_count": 24,
   "id": "8b10b52d",
   "metadata": {},
   "outputs": [
    {
     "name": "stdout",
     "output_type": "stream",
     "text": [
      "Определитель матрицы А: -980.0\n",
      "Определитель матрицы В: 980.0\n"
     ]
    }
   ],
   "source": [
    "A = np.matrix('1 10 2; 10 2 -1; 5 8 11')\n",
    "B = np.matrix('10 2 -1; 1 10 2; 5 8 11')\n",
    "R = round(np.linalg.det(A), 3)\n",
    "L = round(np.linalg.det(B), 3)\n",
    "print(\"Определитель матрицы А:\", R)\n",
    "print(\"Определитель матрицы В:\", L)"
   ]
  },
  {
   "cell_type": "markdown",
   "id": "b9d3f1bf",
   "metadata": {},
   "source": [
    "Если у матрицы есть две одинаковые строки, то ее определитель равен нулю"
   ]
  },
  {
   "cell_type": "code",
   "execution_count": 25,
   "id": "68d76953",
   "metadata": {},
   "outputs": [
    {
     "name": "stdout",
     "output_type": "stream",
     "text": [
      "Определитель матрицы А: 0.0\n"
     ]
    }
   ],
   "source": [
    "A = np.matrix('1 10 2; 1 10 2; 5 8 11')\n",
    "R = round(np.linalg.det(A), 3)\n",
    "print(\"Определитель матрицы А:\", R)"
   ]
  },
  {
   "cell_type": "markdown",
   "id": "2d923afb",
   "metadata": {},
   "source": [
    "Если все элементы строки или столбца матрицы умножить на какое-то число, то и определитель будет умножен на это число"
   ]
  },
  {
   "cell_type": "code",
   "execution_count": 26,
   "id": "91021237",
   "metadata": {},
   "outputs": [
    {
     "name": "stdout",
     "output_type": "stream",
     "text": [
      "Опеределитель матрицы: 1.0\n",
      "Определитель матрицы умноженной на число: 98000.0\n"
     ]
    }
   ],
   "source": [
    "A = np.matrix('1 10 2; 1 11 2; 5 8 11')\n",
    "k = 100\n",
    "B[2, :] = k * B[2, :]\n",
    "det_A = round(np.linalg.det(A), 3)\n",
    "det_B = round(np.linalg.det(B), 3)\n",
    "print(\"Опеределитель матрицы:\", det_A)\n",
    "print(\"Определитель матрицы умноженной на число:\", det_B)"
   ]
  },
  {
   "cell_type": "markdown",
   "id": "fac1473f",
   "metadata": {},
   "source": [
    "Если все элементы строки или столбца можно представить как сумму двух слагаемых, то определитель такой матрицы равен сумме определителей двух соответствующих матриц"
   ]
  },
  {
   "cell_type": "code",
   "execution_count": 27,
   "id": "d887a4f3",
   "metadata": {},
   "outputs": [
    {
     "name": "stdout",
     "output_type": "stream",
     "text": [
      "Определитель матрицы C: 0.0\n",
      "Определитель суммы двух матриц: 0.0\n"
     ]
    }
   ],
   "source": [
    "A = np.matrix('-1 -1 3; -1 -1 3; 2 2 3')\n",
    "B = np.matrix('-1 -1 3; 2 2 7; 2 2 3')\n",
    "C = A.copy()\n",
    "C[1, :] += B[1, :]\n",
    "R = round(np.linalg.det(C), 3)\n",
    "L = round(np.linalg.det(A), 3) + round(np.linalg.det(B), 3)\n",
    "print(\"Определитель матрицы C:\", R)\n",
    "print(\"Определитель суммы двух матриц:\", L)"
   ]
  },
  {
   "cell_type": "markdown",
   "id": "87aa9414",
   "metadata": {},
   "source": [
    "Если к элементам одной строки прибавить элементы другой строки, умноженные на одно и тоже число, то определитель матрицы не изменится"
   ]
  },
  {
   "cell_type": "code",
   "execution_count": 28,
   "id": "7cdbc644",
   "metadata": {},
   "outputs": [
    {
     "name": "stdout",
     "output_type": "stream",
     "text": [
      "Определитель матрицы A: -9.0\n",
      "Определитель матрицы B: -9.0\n"
     ]
    }
   ],
   "source": [
    "A = np.matrix('-1 -1 3; -1 0 3; 2 2 3')\n",
    "k = 70\n",
    "B = A.copy()\n",
    "B[1, :] = B[1, :] + k * B[0, :]\n",
    "R = round(np.linalg.det(A), 3)\n",
    "L = round(np.linalg.det(B), 3)\n",
    "print(\"Определитель матрицы A:\", R)\n",
    "print(\"Определитель матрицы B:\", L)"
   ]
  },
  {
   "cell_type": "markdown",
   "id": "cc26846c",
   "metadata": {},
   "source": [
    "Если строка или столбец матрицы является линейной комбинацией других строк (столбцов), то определитель такой матрицы равен нулю"
   ]
  },
  {
   "cell_type": "code",
   "execution_count": 29,
   "id": "f1edf31f",
   "metadata": {},
   "outputs": [
    {
     "name": "stdout",
     "output_type": "stream",
     "text": [
      "Определитель матрицы A: 0.0\n"
     ]
    }
   ],
   "source": [
    "A = np.matrix('-3 -1 5; -1 0 3; 2 2 3')\n",
    "k = 70\n",
    "A[1, :] = A[0, :] + k * A[2, :]\n",
    "R = round(np.linalg.det(A), 3)\n",
    "print(\"Определитель матрицы A:\", R)"
   ]
  },
  {
   "cell_type": "markdown",
   "id": "a5dfa206",
   "metadata": {},
   "source": [
    "Если матрица содержит пропорциональные строки, то ее определитель равен нулю"
   ]
  },
  {
   "cell_type": "code",
   "execution_count": 30,
   "id": "bfb22480",
   "metadata": {},
   "outputs": [
    {
     "name": "stdout",
     "output_type": "stream",
     "text": [
      "Определитель матрицы A: 0.0\n"
     ]
    }
   ],
   "source": [
    "A = np.matrix('-3 -1 5; -1 0 3; 2 2 3')\n",
    "k = 70\n",
    "A[1, :] = k * A[0, :]\n",
    "R = round(np.linalg.det(A), 3)\n",
    "print(\"Определитель матрицы A:\", R)"
   ]
  },
  {
   "cell_type": "markdown",
   "id": "903ab004",
   "metadata": {},
   "source": [
    "### Обратная матрица"
   ]
  },
  {
   "cell_type": "markdown",
   "id": "a5bbe722",
   "metadata": {},
   "source": [
    "Обратная матрица обратной матрицы есть исходная матрица"
   ]
  },
  {
   "cell_type": "code",
   "execution_count": 31,
   "id": "4ac55458",
   "metadata": {},
   "outputs": [
    {
     "name": "stdout",
     "output_type": "stream",
     "text": [
      "Определитель исходной матрицы:\n",
      " [[ 0.05970149  0.10447761]\n",
      " [-0.07462687  0.11940299]]\n",
      "Определитель обратной обратной матрицы A:\n",
      " [[ 8. -7.]\n",
      " [ 5.  4.]]\n"
     ]
    }
   ],
   "source": [
    "A = np.matrix('8. -7.; 5. 4.')\n",
    "A_inv = np.linalg.inv(A)\n",
    "A_inv_inv = np.linalg.inv(A_inv)\n",
    "print(\"Определитель исходной матрицы:\\n\", A_inv)\n",
    "print(\"Определитель обратной обратной матрицы A:\\n\", A_inv_inv)"
   ]
  },
  {
   "cell_type": "markdown",
   "id": "aca94083",
   "metadata": {},
   "source": [
    "Обратная матрица транспонированной матрицы равна транспонированной матрице от обратной матрицы"
   ]
  },
  {
   "cell_type": "code",
   "execution_count": 32,
   "id": "01bb9e0c",
   "metadata": {},
   "outputs": [
    {
     "name": "stdout",
     "output_type": "stream",
     "text": [
      "Обратная матрица транспонированной матрицы:\n",
      " [[ 0.05970149 -0.07462687]\n",
      " [ 0.10447761  0.11940299]]\n",
      "Транспонированная матрица от обратной матрицы:\n",
      " [[ 0.05970149 -0.07462687]\n",
      " [ 0.10447761  0.11940299]]\n"
     ]
    }
   ],
   "source": [
    "A = np.matrix('8. -7.; 5. 4.')\n",
    "L = np.linalg.inv(A.T)\n",
    "R = (np.linalg.inv(A)).T\n",
    "print(\"Обратная матрица транспонированной матрицы:\\n\",L)\n",
    "print(\"Транспонированная матрица от обратной матрицы:\\n\", R)"
   ]
  },
  {
   "cell_type": "markdown",
   "id": "30e2e32d",
   "metadata": {},
   "source": [
    "Обратная матрица произведения матриц равна произведению обратных матриц"
   ]
  },
  {
   "cell_type": "code",
   "execution_count": 33,
   "id": "2c1a71a1",
   "metadata": {},
   "outputs": [
    {
     "name": "stdout",
     "output_type": "stream",
     "text": [
      "Обратная матрица произведения матриц:\n",
      " [[-0.00219014  0.00567813]\n",
      " [-0.01322193 -0.00275795]]\n",
      "Произведение обратных матриц:\n",
      " [[-0.00219014  0.00567813]\n",
      " [-0.01322193 -0.00275795]]\n"
     ]
    }
   ],
   "source": [
    "A = np.matrix('8. -7.; 5. 4.')\n",
    "B = np.matrix('15. -7.; 22. 2.')\n",
    "L = np.linalg.inv(A.dot(B))\n",
    "R = np.linalg.inv(B).dot(np.linalg.inv(A))\n",
    "print(\"Обратная матрица произведения матриц:\\n\",L)\n",
    "print(\"Произведение обратных матриц:\\n\", R)"
   ]
  }
 ],
 "metadata": {
  "kernelspec": {
   "display_name": "Python 3",
   "language": "python",
   "name": "python3"
  },
  "language_info": {
   "codemirror_mode": {
    "name": "ipython",
    "version": 3
   },
   "file_extension": ".py",
   "mimetype": "text/x-python",
   "name": "python",
   "nbconvert_exporter": "python",
   "pygments_lexer": "ipython3",
   "version": "3.8.8"
  }
 },
 "nbformat": 4,
 "nbformat_minor": 5
}
